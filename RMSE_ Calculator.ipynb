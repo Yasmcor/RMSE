{
 "cells": [
  {
   "cell_type": "markdown",
   "id": "a2484ac9-70cf-4c30-9304-aa784c8fbec5",
   "metadata": {},
   "source": [
    "RMSE\n",
    "\n",
    "Raiz do Erro Quadrático Médio\n",
    "- O que é: Mede o erro médio, mas penaliza mais os erros grandes, porque eleva ao quadrado antes de fazer a média.\n",
    "- Usar: Quando erros grandes forem mais críticos (ex.: previsão de estoque).\n",
    "- Cálculo na prática:\n",
    "    > Erro = valor previsto - valor real\n",
    "    > Calcular cada erro ao quadrado\n",
    "    > Calcula a média dos erros ao quadrado\n",
    "    > Calcula a raiz da média\n",
    "- 📚 Exemplos práticos de uso\n",
    "    Previsão de vendas: comparar valores reais de vendas com a previsão do modelo.\n",
    "    Meteorologia: medir a precisão da previsão de temperatura.\n",
    "    Controle de estoque: penalizar fortemente erros grandes para evitar falta de produtos."
   ]
  },
  {
   "cell_type": "markdown",
   "id": "508adec0-3893-4197-acfc-60025e54c540",
   "metadata": {},
   "source": [
    "Root Mean Squared Error\n",
    "- What it is: Measures the average error, but penalizes large errors more because it squares the error before averaging.\n",
    "- Use: When large errors are more critical (e.g., inventory forecasting).\n",
    "- Practical calculation:\n",
    "    > Error = predicted value - actual value\n",
    "    > Square each error\n",
    "    > Calculate the average of the squared errors\n",
    "    > Calculate the root mean\n",
    "\n",
    "- 📚 Practical examples of use\n",
    "Sales forecasting: compare actual sales figures with the model's forecast.\n",
    "Meteorology: measure the accuracy of temperature forecasts.\n",
    "Inventory control: heavily penalize large errors to avoid product shortages."
   ]
  },
  {
   "cell_type": "markdown",
   "id": "4ed04e6c-09d5-48d5-bce0-5656ae078fa9",
   "metadata": {},
   "source": [
    "Erreur quadratique moyenne\n",
    "- Définition : Mesure l’erreur moyenne, mais pénalise davantage les erreurs importantes, car elle élève l’erreur au carré avant de calculer la moyenne.\n",
    "- Utilisation : Lorsque les erreurs importantes sont plus critiques (par exemple, la prévision des stocks).\n",
    "\n",
    "Calcul pratique :\n",
    "> Erreur = valeur prédite - valeur réelle\n",
    "> Élever chaque erreur au carré\n",
    "> Calculer la moyenne des erreurs au carré\n",
    "> Calculer la racine carrée de la \n",
    "\n",
    "- 📚 Exemples pratiques d'utilisation\n",
    "Prévisions des ventes : comparer les chiffres de vente réels avec les prévisions du modèle.\n",
    "Météorologie : mesurer la précision des prévisions de température.\n",
    "Gestion des stocks : pénaliser fortement les erreurs importantes pour éviter les ruptures de stock."
   ]
  },
  {
   "cell_type": "code",
   "execution_count": null,
   "id": "b06f3b5b-3ec2-4a15-b16a-503eca9d139a",
   "metadata": {},
   "outputs": [
    {
     "name": "stdout",
     "output_type": "stream",
     "text": [
      "=== Calculadora de RMSE ===\n",
      "Digite os valores reais separados por vírgula (ex: 10,12,16,9):\n"
     ]
    }
   ],
   "source": [
    "mport numpy as np\n",
    "import ipywidgets as widgets\n",
    "from IPython.display import display, clear_output\n",
    "\n",
    "# Função RMSE\n",
    "def rmse(y_true, y_pred):\n",
    "    y_true = np.array(y_true, dtype=float)\n",
    "    y_pred = np.array(y_pred, dtype=float)\n",
    "    errors = y_pred - y_true\n",
    "    mse = np.mean(errors**2)\n",
    "    return np.sqrt(mse)\n",
    "\n",
    "# Widgets de entrada\n",
    "entrada_reais = widgets.Text(\n",
    "    description=\"Reais:\",\n",
    "    placeholder=\"Ex: 10,12,16,9\",\n",
    "    style={'description_width': '60px'},\n",
    "    layout=widgets.Layout(width='400px')\n",
    ")\n",
    "\n",
    "entrada_previstos = widgets.Text(\n",
    "    description=\"Previstos:\",\n",
    "    placeholder=\"Ex: 15,13,22,14\",\n",
    "    style={'description_width': '60px'},\n",
    "    layout=widgets.Layout(width='400px')\n",
    ")\n",
    "\n",
    "botao = widgets.Button(description=\"Calcular RMSE\", button_style='success')\n",
    "\n",
    "saida = widgets.Output()\n",
    "\n",
    "# Função quando clicar no botão\n",
    "def on_button_clicked(b):\n",
    "    with saida:\n",
    "        clear_output()\n",
    "        try:\n",
    "            y_true = [float(x.strip()) for x in entrada_reais.value.split(\",\")]\n",
    "            y_pred = [float(x.strip()) for x in entrada_previstos.value.split(\",\")]\n",
    "            \n",
    "            if len(y_true) != len(y_pred):\n",
    "                print(\"❌ Erro: as listas precisam ter o mesmo tamanho!\")\n",
    "            else:\n",
    "                resultado = rmse(y_true, y_pred)\n",
    "                print(f\"✅ RMSE = {resultado:.2f}\")\n",
    "        except:\n",
    "            print(\"⚠️ Entrada inválida! Use números separados por vírgula.\")\n",
    "\n",
    "botao.on_click(on_button_clicked)\n",
    "\n",
    "# Exibir interface\n",
    "display(entrada_reais, entrada_previstos, botao, saida)"
   ]
  },
  {
   "cell_type": "code",
   "execution_count": null,
   "id": "9d033936-daed-41b8-8cb2-2fa7fdb69f3f",
   "metadata": {},
   "outputs": [],
   "source": []
  }
 ],
 "metadata": {
  "kernelspec": {
   "display_name": "Python 3 (ipykernel)",
   "language": "python",
   "name": "python3"
  },
  "language_info": {
   "codemirror_mode": {
    "name": "ipython",
    "version": 3
   },
   "file_extension": ".py",
   "mimetype": "text/x-python",
   "name": "python",
   "nbconvert_exporter": "python",
   "pygments_lexer": "ipython3",
   "version": "3.12.7"
  }
 },
 "nbformat": 4,
 "nbformat_minor": 5
}
